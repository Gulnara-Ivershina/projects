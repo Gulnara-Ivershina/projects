{
  "nbformat": 4,
  "nbformat_minor": 0,
  "metadata": {
    "colab": {
      "provenance": []
    },
    "kernelspec": {
      "name": "python3",
      "display_name": "Python 3"
    },
    "language_info": {
      "name": "python"
    }
  },
  "cells": [
    {
      "cell_type": "code",
      "execution_count": null,
      "metadata": {
        "colab": {
          "base_uri": "https://localhost:8080/"
        },
        "id": "VNBmQPtb7a2Z",
        "outputId": "3317ded3-d6d9-4a49-8af2-6b1dc9d6696e"
      },
      "outputs": [
        {
          "output_type": "stream",
          "name": "stdout",
          "text": [
            "Введите команду:\n",
            "p\n",
            "Введите номер документа:\n",
            "1222\n",
            "Результат:\n",
            "Владелец документа: Документ не найден в базе\n",
            "Введите команду:\n",
            "l\n",
            "№: 2207 876234, тип: passport, владелец: Василий Гупкин, полка хранения: 1\n",
            "№: 11-2, тип: invoice, владелец: Геннадий Покемонов, полка хранения: 1\n",
            "№: 10006, тип: insurance, владелец: Аристарх Павлов, полка хранения: 2\n",
            "Введите команду:\n",
            "p\n",
            "Введите номер документа:\n",
            "11-2\n",
            "Результат:\n",
            "Владелец документа: Геннадий Покемонов\n"
          ]
        }
      ],
      "source": [
        "documents = [\n",
        "    {'type': 'passport', 'number': '2207 876234', 'name': 'Василий Гупкин'},\n",
        "    {'type': 'invoice', 'number': '11-2', 'name': 'Геннадий Покемонов'},\n",
        "    {'type': 'insurance', 'number': '10006', 'name': 'Аристарх Павлов'}\n",
        "]\n",
        "directories = {\n",
        "    '1': ['2207 876234', '11-2'],\n",
        "    '2': ['10006'],\n",
        "    '3': []\n",
        "}\n",
        "\n",
        "def find_owner_by_number(documents, number):\n",
        "    for document in documents:\n",
        "        if document['number'] == number:\n",
        "            return document['name']\n",
        "    return 'Документ не найден в базе'\n",
        "\n",
        "\n",
        "def shelf_by_document_number(document_number, directories):\n",
        "    for shelf_number, document_numbers in directories.items():\n",
        "        if document_number in document_numbers:\n",
        "            return shelf_number\n",
        "    return None\n",
        "\n",
        "def get_shelf(doc_number):\n",
        "    for shelf, docs in directories.items():\n",
        "        if doc_number in docs:\n",
        "            return shelf\n",
        "    return None\n",
        "\n",
        "all_info = lambda: [print(f\"№: {doc['number']}, тип: {doc['type']}, владелец: {doc['name']}, полка хранения: {get_shelf(doc['number'])}\") for doc in documents]\n",
        "\n",
        "def add_new_shelf(directories):\n",
        "  shelf_number = input(\"Введите номер полки: \")\n",
        "  if shelf_number in directories:\n",
        "        return f\"Такая полка уже существует. Текущий перечень полок: {', '.join(directories.keys())}.\"\n",
        "  directories[shelf_number] = []\n",
        "  return f\"Полка добавлена. Текущий перечень полок: {', '.join(directories.keys())}.\"\n",
        "\n",
        "def delete_shelf(directories):\n",
        "    shelf_number = input(\"Введите номер полки: \")\n",
        "    if shelf_number not in directories:\n",
        "        return f\"Такой полки не существует. Текущий перечень полок: {', '.join(directories.keys())}.\"\n",
        "    if directories[shelf_number]:\n",
        "        return f\"На полке есть документы, удалите их перед удалением полки. Текущий перечень полок: {', '.join(directories.keys())}.\"\n",
        "    del directories[shelf_number]\n",
        "    return f\"Полка удалена. Текущий перечень полок: {', '.join(directories.keys())}.\"\n",
        "\n",
        "def main(docs):\n",
        "\n",
        "    while True:\n",
        "        command = input('Введите команду:\\n')\n",
        "        if command == 'p':\n",
        "          number = input('Введите номер документа:\\n')\n",
        "          print('Результат:')\n",
        "          print('Владелец документа:', find_owner_by_number(documents, number))\n",
        "        elif command == 's':\n",
        "          document_number = input('Введите номер документа:\\n')\n",
        "          print(shelf_by_document_number(document_number, directories))\n",
        "        elif command == 'l':\n",
        "          all_info()\n",
        "        elif command == 'ads':\n",
        "          print(add_new_shelf(directories))\n",
        "        elif command == 'ds':\n",
        "          print(delete_shelf(directories))\n",
        "        elif command == 'q':\n",
        "          print('Выход из программы')\n",
        "          break\n",
        "\n",
        "\n",
        "main(documents)"
      ]
    }
  ]
}