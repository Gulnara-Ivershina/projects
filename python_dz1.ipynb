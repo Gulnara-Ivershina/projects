{
  "nbformat": 4,
  "nbformat_minor": 0,
  "metadata": {
    "colab": {
      "provenance": []
    },
    "kernelspec": {
      "name": "python3",
      "display_name": "Python 3"
    },
    "language_info": {
      "name": "python"
    }
  },
  "cells": [
    {
      "cell_type": "code",
      "execution_count": null,
      "metadata": {
        "colab": {
          "base_uri": "https://localhost:8080/"
        },
        "id": "hMTFjCJOYdI7",
        "outputId": "35d35281-4d25-4d87-9bed-2d00c1d4875b"
      },
      "outputs": [
        {
          "output_type": "stream",
          "name": "stdout",
          "text": [
            "Фраза 1 > фразы 2\n"
          ]
        }
      ],
      "source": [
        "phrase_1 = 'Я памятник себе воздвиг нерукотворный'\n",
        "phrase_2 = 'Мороз и солнце, день чудесный'\n",
        "if phrase_1 < phrase_2:\n",
        "  print ('фраза 1 < фразы 2')\n",
        "else:\n",
        "    print ('Фраза 1 > фразы 2')"
      ]
    },
    {
      "cell_type": "code",
      "source": [
        "year = int(input('Введите год: '))\n",
        "if year % 4 != 0:\n",
        "  print('обычный год')\n",
        "elif year % 100 != 0:\n",
        "  print('Високосный год')\n",
        "elif year % 400 != 0:\n",
        "  print('Обычный год')\n",
        "else:\n",
        "  print('Високосный год')"
      ],
      "metadata": {
        "colab": {
          "base_uri": "https://localhost:8080/"
        },
        "id": "BDQl-b4ObQS2",
        "outputId": "6b1402ef-e967-4979-a454-cd16098275e2"
      },
      "execution_count": null,
      "outputs": [
        {
          "output_type": "stream",
          "name": "stdout",
          "text": [
            "Введите год: 2019\n",
            "обычный год\n"
          ]
        }
      ]
    },
    {
      "cell_type": "code",
      "source": [
        "day = int(input('Введите свой день рождения: '))\n",
        "month = input('Введите свой месяц рождения (С большой буквы): ')\n",
        "if month == 'Январь':\n",
        "  zodiac = 'козерог' if (day < 21) else 'Водолей'\n",
        "elif month == 'Февраль':\n",
        "  zodiac = 'Водолей' if (day < 19) else 'Рыбы'\n",
        "elif month == 'Март':\n",
        "  zodiac = 'Рыбы' if (day < 21) else 'Овен'\n",
        "elif month == 'Апрель':\n",
        "  zodiac = 'Овен' if (day < 21) else 'Телец'\n",
        "elif month == 'Май':\n",
        "  zodiac = 'Телец' if (day < 21) else 'Близнецы'\n",
        "elif month == 'Июнь':\n",
        "  zodiac = 'Близнецы' if (day < 22) else 'Рак'\n",
        "elif month == 'Июль':\n",
        "  zodiac = 'Рак' if (day < 23) else 'Лев'\n",
        "elif month == 'Август':\n",
        "  zodiac = 'Лев' if (day < 23) else 'Дева'\n",
        "elif month == 'Сентябрь':\n",
        "  zodiac = 'Дева' if (day < 24) else 'Весы'\n",
        "elif month == 'Октябрь':\n",
        "  zodiac = 'Весы' if (day < 24) else 'Скорпион'\n",
        "elif month == 'Ноябрь':\n",
        "  zodiac = 'Скорпион' if (day < 23) else 'Стрелец'\n",
        "elif month == 'Декабрь':\n",
        "  zodiac = 'Стрелец' if (day < 22) else 'Козерог'\n",
        "print(\"Ваш знак зодиака: \", zodiac)"
      ],
      "metadata": {
        "id": "cZwYOWGCggIz",
        "colab": {
          "base_uri": "https://localhost:8080/"
        },
        "outputId": "861e36b0-23a5-4244-ebdf-f1093e0b1d7f"
      },
      "execution_count": null,
      "outputs": [
        {
          "output_type": "stream",
          "name": "stdout",
          "text": [
            "Введите свой день рождения: 9\n",
            "Введите свой месяц рождения (С большой буквы): Октябрь\n",
            "Ваш знак зодиака:  Весы\n"
          ]
        }
      ]
    },
    {
      "cell_type": "code",
      "source": [
        "width = int(input('Введите ширину коробки: '))\n",
        "length = int(input('Введите длину коробки: '))\n",
        "height = int(input('Введите высоту коробки: '))\n",
        "if width <= 15 and length <= 15 and height <= 15:\n",
        "  print('Коробка №1')\n",
        "elif width > 200 or length > 200 or height > 200:\n",
        "  print('Коробка для лыж')\n",
        "elif 15 < width < 50 or 15 < length < 50 or 15 < height < 50:\n",
        "  print('Коробка №2')\n",
        "else:\n",
        "  print('Коробка №3')"
      ],
      "metadata": {
        "colab": {
          "base_uri": "https://localhost:8080/"
        },
        "id": "Z5axJOVluzy_",
        "outputId": "2546950b-5830-4e98-cd75-4b6eec15d592"
      },
      "execution_count": null,
      "outputs": [
        {
          "output_type": "stream",
          "name": "stdout",
          "text": [
            "Введите ширину коробки: 205\n",
            "Введите длину коробки: 5\n",
            "Введите высоту коробки: 50\n",
            "Коробка для лыж\n"
          ]
        }
      ]
    },
    {
      "cell_type": "code",
      "source": [
        "import math\n",
        "figure = input('Введите тип фигуры (круг, треугольник, прямоугольник): ')\n",
        "if figure == 'круг':\n",
        "  r = int(input('Введите радиус круга: '))\n",
        "  s_circle = 3,14*r**2\n",
        "  print('Площадь круга: ',s_circle)\n",
        "elif figure == 'прямоугольник':\n",
        "  r1 = int(input('Введите первую сторону прямоугольника: '))\n",
        "  r2 = int(input('Введите вторую сторону прямоугольника: '))\n",
        "  s_rectangle = r1*r2\n",
        "  print('Площадь прямоугольника: ', s_rectangle )\n",
        "else:\n",
        "  t1 = int(input('Введите первую сторону треугольника: '))\n",
        "  t2 = int(input('Введите первую сторону треугольника: '))\n",
        "  t3 = int(input('Введите первую сторону треугольника: '))\n",
        "  p = (t1+t2+t3)/2\n",
        "  s_triangle = math.sqrt(p*(p-t1)*(p-t2)*(p-t3))\n",
        "  print('Площадь треугольника: ', s_triangle)\n"
      ],
      "metadata": {
        "colab": {
          "base_uri": "https://localhost:8080/"
        },
        "id": "OdN-tsIzyZjC",
        "outputId": "6ee81932-9811-41da-fcf1-0bd1521bca11"
      },
      "execution_count": null,
      "outputs": [
        {
          "output_type": "stream",
          "name": "stdout",
          "text": [
            "Введите тип фигуры (круг, треугольник, прямоугольник): прямоугольник\n",
            "Введите первую сторону прямоугольника: 10\n",
            "Введите вторую сторону прямоугольника: 52\n",
            "Площадь прямоугольника:  520\n"
          ]
        }
      ]
    },
    {
      "cell_type": "code",
      "source": [
        "nums = input(\"Введите 6-значное число: \")\n",
        "int(nums)\n",
        "lab = nums[0] + nums[1] + nums[2]\n",
        "lab2 = nums[3] + nums[4] + nums[5]\n",
        "num = int(lab)\n",
        "num2 = int(lab2)\n",
        "sum1 = 0\n",
        "while (num != 0):\n",
        "    sum1 = sum1 + num % 10\n",
        "    num = num // 10\n",
        "sum2 = 0\n",
        "while (num2 != 0):\n",
        "    sum2 = sum2 + num2 % 10\n",
        "    num2 = num2 // 10\n",
        "if sum1 == sum2:\n",
        "  print(\"Билет счастливый\")\n",
        "else:\n",
        "  print(\"Билет несчастливый \")\n"
      ],
      "metadata": {
        "colab": {
          "base_uri": "https://localhost:8080/"
        },
        "id": "Wx783ZkN-r5z",
        "outputId": "5258372e-c155-4304-ac67-a79fba429ff3"
      },
      "execution_count": null,
      "outputs": [
        {
          "output_type": "stream",
          "name": "stdout",
          "text": [
            "Введите 6-значное число: 457464\n",
            "Билет несчастливый \n"
          ]
        }
      ]
    }
  ]
}