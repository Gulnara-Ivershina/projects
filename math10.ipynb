{
  "nbformat": 4,
  "nbformat_minor": 0,
  "metadata": {
    "colab": {
      "provenance": []
    },
    "kernelspec": {
      "name": "python3",
      "display_name": "Python 3"
    },
    "language_info": {
      "name": "python"
    }
  },
  "cells": [
    {
      "cell_type": "code",
      "execution_count": null,
      "metadata": {
        "colab": {
          "base_uri": "https://localhost:8080/"
        },
        "id": "xgugWOJ3AKJJ",
        "outputId": "213fda0a-6a03-49c2-f633-b7e08f3a1644"
      },
      "outputs": [
        {
          "output_type": "execute_result",
          "data": {
            "text/plain": [
              "array([[ 2,  2,  3],\n",
              "       [ 4,  6,  6],\n",
              "       [ 7,  8, 10]])"
            ]
          },
          "metadata": {},
          "execution_count": 6
        }
      ],
      "source": [
        "import numpy as np\n",
        "A = np.array([[1,2,3], [4,5,6], [7,8,9]])\n",
        "B = np.array([[1,0,0], [0,1,0], [0,0,1]])\n",
        "C = A+B\n",
        "C"
      ]
    },
    {
      "cell_type": "code",
      "source": [
        "vector = np.array([1,2,3])\n",
        "res = np.dot(C, vector)\n",
        "res"
      ],
      "metadata": {
        "colab": {
          "base_uri": "https://localhost:8080/"
        },
        "id": "OqQz3618B4Rs",
        "outputId": "7663e2d8-0f9a-4994-b9aa-18a8123e3f70"
      },
      "execution_count": null,
      "outputs": [
        {
          "output_type": "execute_result",
          "data": {
            "text/plain": [
              "array([15, 34, 53])"
            ]
          },
          "metadata": {},
          "execution_count": 8
        }
      ]
    },
    {
      "cell_type": "code",
      "source": [
        "transpon = C.T\n",
        "transpon"
      ],
      "metadata": {
        "colab": {
          "base_uri": "https://localhost:8080/"
        },
        "id": "BZvV-KekDZgO",
        "outputId": "bce99f37-66a9-4051-cb6b-aef783904f52"
      },
      "execution_count": null,
      "outputs": [
        {
          "output_type": "execute_result",
          "data": {
            "text/plain": [
              "array([[ 2,  4,  7],\n",
              "       [ 2,  6,  8],\n",
              "       [ 3,  6, 10]])"
            ]
          },
          "metadata": {},
          "execution_count": 9
        }
      ]
    },
    {
      "cell_type": "code",
      "source": [
        "inverse_matrix = np.linalg.inv(C)\n",
        "inverse_matrix"
      ],
      "metadata": {
        "colab": {
          "base_uri": "https://localhost:8080/"
        },
        "id": "RXXtW1E8D8Pm",
        "outputId": "8e2113f5-e5c1-4b6b-95c3-6bca37556d32"
      },
      "execution_count": null,
      "outputs": [
        {
          "output_type": "execute_result",
          "data": {
            "text/plain": [
              "array([[-6.00000000e+00, -2.00000000e+00,  3.00000000e+00],\n",
              "       [-1.00000000e+00,  5.00000000e-01, -2.33146835e-16],\n",
              "       [ 5.00000000e+00,  1.00000000e+00, -2.00000000e+00]])"
            ]
          },
          "metadata": {},
          "execution_count": 10
        }
      ]
    },
    {
      "cell_type": "code",
      "source": [
        "#Задание 2\n",
        "m = np.array([[2, 2],\n",
        "              [1, 3]])\n",
        "print(m)"
      ],
      "metadata": {
        "colab": {
          "base_uri": "https://localhost:8080/"
        },
        "id": "tzANAGp2JIW0",
        "outputId": "91074711-d8b7-4f4e-d694-9b720e8f9ba0"
      },
      "execution_count": null,
      "outputs": [
        {
          "output_type": "stream",
          "name": "stdout",
          "text": [
            "[[2 2]\n",
            " [1 3]]\n"
          ]
        }
      ]
    },
    {
      "cell_type": "code",
      "source": [
        "result_values, result_vectors = np.linalg.eig(m)\n",
        "print(\"Собственные значения:\")\n",
        "print(result_values)\n",
        "print(\"\\nСобственные векторы:\")\n",
        "print(result_vectors)"
      ],
      "metadata": {
        "colab": {
          "base_uri": "https://localhost:8080/"
        },
        "id": "FMlws7tDKUp0",
        "outputId": "086be144-730d-4d57-b317-bbf8b5da28f8"
      },
      "execution_count": null,
      "outputs": [
        {
          "output_type": "stream",
          "name": "stdout",
          "text": [
            "Собственные значения:\n",
            "[1. 4.]\n",
            "\n",
            "Собственные векторы:\n",
            "[[-0.89442719 -0.70710678]\n",
            " [ 0.4472136  -0.70710678]]\n"
          ]
        }
      ]
    },
    {
      "cell_type": "code",
      "source": [
        "#Задание 3\n",
        "G = np.array([[1, 1],[2, 3]])\n",
        "determinant = np.linalg.det(G)\n",
        "\n",
        "print(\"Определитель матрицы G:\", determinant)"
      ],
      "metadata": {
        "colab": {
          "base_uri": "https://localhost:8080/"
        },
        "id": "ULEal20QMfd0",
        "outputId": "f6ad4a95-e0c2-4b04-b349-72c56e2145ea"
      },
      "execution_count": null,
      "outputs": [
        {
          "output_type": "stream",
          "name": "stdout",
          "text": [
            "Определитель матрицы G: 1.0\n"
          ]
        }
      ]
    }
  ]
}