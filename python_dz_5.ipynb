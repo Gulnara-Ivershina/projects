{
  "nbformat": 4,
  "nbformat_minor": 0,
  "metadata": {
    "colab": {
      "provenance": []
    },
    "kernelspec": {
      "name": "python3",
      "display_name": "Python 3"
    },
    "language_info": {
      "name": "python"
    }
  },
  "cells": [
    {
      "cell_type": "code",
      "source": [
        "import json\n",
        "import csv\n",
        "\n",
        "\n",
        "purchases = {}\n",
        "with open('purchase_log.txt', 'r', encoding='utf-8') as file:\n",
        "    next(file)\n",
        "    for line in file:\n",
        "        purchase = json.loads(line.strip())\n",
        "        user_id = purchase['user_id']\n",
        "        category = purchase['category']\n",
        "        purchases[user_id] = category\n",
        "\n",
        "print(purchases)"
      ],
      "metadata": {
        "colab": {
          "base_uri": "https://localhost:8080/"
        },
        "id": "MBnQM_1YCD1t",
        "outputId": "6e6f15d8-5ef9-466d-f343-5ea35bdbc4b7"
      },
      "execution_count": null,
      "outputs": [
        {
          "output_type": "stream",
          "name": "stderr",
          "text": [
            "IOPub data rate exceeded.\n",
            "The notebook server will temporarily stop sending output\n",
            "to the client in order to avoid crashing it.\n",
            "To change this limit, set the config variable\n",
            "`--NotebookApp.iopub_data_rate_limit`.\n",
            "\n",
            "Current values:\n",
            "NotebookApp.iopub_data_rate_limit=1000000.0 (bytes/sec)\n",
            "NotebookApp.rate_limit_window=3.0 (secs)\n",
            "\n"
          ]
        }
      ]
    },
    {
      "cell_type": "code",
      "source": [
        "\n",
        "with open('visit_log.csv', 'r', encoding='utf-8') as file, \\\n",
        "        open('funnel.csv', 'w', encoding='utf-8', newline='') as output_file:\n",
        "    reader = csv.reader(file)\n",
        "    writer = csv.writer(output_file)\n",
        "\n",
        "    writer.writerow(['user_id', 'source', 'category'])\n",
        "\n",
        "\n",
        "    for row in reader:\n",
        "        user_id = row[0]\n",
        "        if user_id in purchases:\n",
        "            source = row[1]\n",
        "            category = purchases[user_id]\n",
        "            writer.writerow([user_id, source, category])\n",
        "import csv\n",
        "\n",
        "with open('funnel.csv') as f:\n",
        "    reader = csv.reader(f)\n",
        "    headers = next(reader) # Пропустить первую строку (заголовки столбцов)\n",
        "\n",
        "    for line in f:\n",
        "        print(line)\n",
        "        break"
      ],
      "metadata": {
        "colab": {
          "base_uri": "https://localhost:8080/"
        },
        "id": "ZV8GPGQRFGps",
        "outputId": "deadcecb-7d78-487c-a56a-9e1a1458295d"
      },
      "execution_count": null,
      "outputs": [
        {
          "output_type": "stream",
          "name": "stdout",
          "text": [
            "1840e0b9d4,other,Продукты\n",
            "\n"
          ]
        }
      ]
    }
  ]
}