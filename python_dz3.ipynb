{
  "nbformat": 4,
  "nbformat_minor": 0,
  "metadata": {
    "colab": {
      "provenance": []
    },
    "kernelspec": {
      "name": "python3",
      "display_name": "Python 3"
    },
    "language_info": {
      "name": "python"
    }
  },
  "cells": [
    {
      "cell_type": "code",
      "source": [
        "ids = {\n",
        "    'user1': [213, 213, 213, 15, 213],\n",
        "    'user2': [54, 54, 119, 119, 119],\n",
        "    'user3': [213, 98, 98, 35]\n",
        "}\n",
        "\n",
        "unique_geo_marks = set(mark for marks in ids.values() for mark in marks)\n",
        "print(unique_geo_marks)"
      ],
      "metadata": {
        "colab": {
          "base_uri": "https://localhost:8080/"
        },
        "id": "XShp9pvqH-BB",
        "outputId": "cdc9ce5b-a593-4d76-cacf-536344ca37ac"
      },
      "execution_count": null,
      "outputs": [
        {
          "output_type": "stream",
          "name": "stdout",
          "text": [
            "{98, 35, 15, 213, 54, 119}\n"
          ]
        }
      ]
    },
    {
      "cell_type": "code",
      "source": [
        "results = {\n",
        "    'vk': {'revenue': 103, 'cost': 98},\n",
        "    'yandex': {'revenue': 179, 'cost': 153},\n",
        "    'facebook': {'revenue': 103, 'cost': 110},\n",
        "    'adwords': {'revenue': 35, 'cost': 34},\n",
        "    'twitter': {'revenue': 11, 'cost': 24},\n",
        "}\n",
        "\n",
        "for source, data in results.items():\n",
        "    roi = round((data['revenue'] / data['cost'] - 1) * 100, 2)\n",
        "    data['ROI'] = roi\n",
        "\n",
        "print(results)"
      ],
      "metadata": {
        "colab": {
          "base_uri": "https://localhost:8080/"
        },
        "id": "xeZjSw_LTZNW",
        "outputId": "e17ae692-b6ed-42d9-ce14-2ce2727a05d2"
      },
      "execution_count": null,
      "outputs": [
        {
          "output_type": "stream",
          "name": "stdout",
          "text": [
            "{'vk': {'revenue': 103, 'cost': 98, 'ROI': 5.1}, 'yandex': {'revenue': 179, 'cost': 153, 'ROI': 16.99}, 'facebook': {'revenue': 103, 'cost': 110, 'ROI': -6.36}, 'adwords': {'revenue': 35, 'cost': 34, 'ROI': 2.94}, 'twitter': {'revenue': 11, 'cost': 24, 'ROI': -54.17}}\n"
          ]
        }
      ]
    },
    {
      "cell_type": "code",
      "source": [
        "stats = {'facebook': 55, 'yandex': 115, 'vk': 120, 'google': 99, 'email': 42, 'ok': 98}\n",
        "max_sales = max(stats.values())\n",
        "max_channel = [channel for channel, sales in stats.items() if sales == max_sales][0]\n",
        "print(\"Максимальный объем продаж на рекламном канале:\", max_channel)"
      ],
      "metadata": {
        "colab": {
          "base_uri": "https://localhost:8080/"
        },
        "id": "N35pnucyWIW5",
        "outputId": "126440f7-09ff-4485-b41e-9dab69635d18"
      },
      "execution_count": null,
      "outputs": [
        {
          "output_type": "stream",
          "name": "stdout",
          "text": [
            "Максимальный объем продаж на рекламном канале: vk\n"
          ]
        }
      ]
    },
    {
      "cell_type": "code",
      "source": [
        "queries = [\n",
        "    'смотреть сериалы онлайн',\n",
        "    'новости спорта',\n",
        "    'афиша кино',\n",
        "    'курс доллара',\n",
        "    'сериалы этим летом',\n",
        "    'курс по питону',\n",
        "    'сериалы про спорт',\n",
        "]\n",
        "\n",
        "# создаем словарь для подсчета количества запросов с определенным количеством слов\n",
        "word_count = {}\n",
        "for query in queries:\n",
        "    words = query.split()\n",
        "    count = len(words)\n",
        "    if count in word_count:\n",
        "        word_count[count] += 1\n",
        "    else:\n",
        "        word_count[count] = 1\n",
        "\n",
        "# выводим результат на экран\n",
        "total_queries = len(queries)\n",
        "for count, query_count in word_count.items():\n",
        "    percentage = query_count/total_queries * 100\n",
        "    print(f'Поисковых запросов, содержащих {count} слов(а): {percentage:.2f}%')"
      ],
      "metadata": {
        "colab": {
          "base_uri": "https://localhost:8080/"
        },
        "id": "4KPdOBoMZnQ9",
        "outputId": "a2839c4e-b958-419a-aba2-0cdfb7e3255e"
      },
      "execution_count": null,
      "outputs": [
        {
          "output_type": "stream",
          "name": "stdout",
          "text": [
            "Поисковых запросов, содержащих 3 слов(а): 57.14%\n",
            "Поисковых запросов, содержащих 2 слов(а): 42.86%\n"
          ]
        }
      ]
    },
    {
      "cell_type": "code",
      "source": [],
      "metadata": {
        "id": "jQ8yxKWFWtNn"
      },
      "execution_count": null,
      "outputs": []
    }
  ]
}