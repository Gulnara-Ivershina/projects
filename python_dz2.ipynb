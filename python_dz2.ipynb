{
  "nbformat": 4,
  "nbformat_minor": 0,
  "metadata": {
    "colab": {
      "provenance": []
    },
    "kernelspec": {
      "name": "python3",
      "display_name": "Python 3"
    },
    "language_info": {
      "name": "python"
    }
  },
  "cells": [
    {
      "cell_type": "code",
      "execution_count": null,
      "metadata": {
        "colab": {
          "base_uri": "https://localhost:8080/"
        },
        "id": "oag_BIqIJ_0q",
        "outputId": "7ab2d8ab-2215-48e2-d2ab-b7328ce98004"
      },
      "outputs": [
        {
          "output_type": "stream",
          "name": "stdout",
          "text": [
            "Введите слово: teste\n",
            "Количество букв в этом слове нечетное. Средняя буква в слове teste:s\n"
          ]
        }
      ],
      "source": [
        "word = input(\"Введите слово: \")\n",
        "length = len(word)\n",
        "if length % 2 == 0:\n",
        "  mid_idx = length // 2\n",
        "  print(f\"Количество букв в этом слове четное. Средние буквы в слове {word}: {word[mid_idx -1]}{word[mid_idx]} \")\n",
        "else:\n",
        "  mid_idx = length // 2\n",
        "  print(f\"Количество букв в этом слове нечетное. Средняя буква в слове {word}:{word[mid_idx]}\")"
      ]
    },
    {
      "cell_type": "code",
      "source": [
        "result = 0\n",
        "while True:\n",
        "  num = int(input('Введите число: '))\n",
        "  if num == 0:\n",
        "    break;\n",
        "  result += num\n",
        "print(\"Сумма всех введенных чисел равна\", result)"
      ],
      "metadata": {
        "colab": {
          "base_uri": "https://localhost:8080/"
        },
        "id": "LVySIsPAW5ir",
        "outputId": "5f34cc3e-7aaf-461b-bddd-a1b85fa0594e"
      },
      "execution_count": null,
      "outputs": [
        {
          "output_type": "stream",
          "name": "stdout",
          "text": [
            "Введите число: 454\n",
            "Введите число: 455\n",
            "Введите число: 778\n",
            "Введите число: 0\n",
            "Сумма всех введенных чисел равна 1687\n"
          ]
        }
      ]
    },
    {
      "cell_type": "code",
      "source": [
        "boys = ['Peter', 'Alex', 'John', 'Arthur', 'Richard']\n",
        "girls = ['Kate', 'Liza', 'Kira', 'Emma', 'Trisha']\n",
        "if len(boys) != len(girls):\n",
        "  print('Внимание, кто-то может остаться без пары!')\n",
        "else:\n",
        "  boys_sort_by_alphabet = sorted(boys)\n",
        "  girls_sort_by_alphabet = sorted(girls)\n",
        "  print('Идеальные пары:')\n",
        "  for boy, girl in zip(boys_sort_by_alphabet, girls_sort_by_alphabet):\n",
        "    print(f'{boy} и {girl}')"
      ],
      "metadata": {
        "colab": {
          "base_uri": "https://localhost:8080/"
        },
        "id": "AZyqxLR7cVig",
        "outputId": "68d2c3f8-d170-4fd2-c214-1598f2e0106b"
      },
      "execution_count": null,
      "outputs": [
        {
          "output_type": "stream",
          "name": "stdout",
          "text": [
            "Идеальные пары:\n",
            "Alex и Emma\n",
            "Arthur и Kate\n",
            "John и Kira\n",
            "Peter и Liza\n",
            "Richard и Trisha\n"
          ]
        }
      ]
    },
    {
      "cell_type": "code",
      "source": [],
      "metadata": {
        "id": "aRKg-ZbZuBT0"
      },
      "execution_count": null,
      "outputs": []
    },
    {
      "cell_type": "code",
      "source": [
        "countries_temperature = [\n",
        "    ['Таиланд', [75.2, 77, 78.8, 73.4, 68, 75.2, 77]],\n",
        "    ['Германия', [57.2, 55.4, 59, 59, 53.6]],\n",
        "    ['Россия', [35.6, 37.4, 39.2, 41, 42.8, 39.2, 35.6]],\n",
        "    ['Польша', [50, 50, 53.6, 57.2, 55.4, 55.4]]\n",
        "]\n",
        "print(\"Средняя температура в странах:\")\n",
        "for country, temperatures in countries_temperature:\n",
        "    # переводим температуры из Фаренгейта в Цельсии\n",
        "    celsius_temperatures = [(t - 32) * 5/9 for t in temperatures]\n",
        "    # считаем среднюю температуру и выводим результат\n",
        "    average_temp = sum(celsius_temperatures) / len(celsius_temperatures)\n",
        "    print(country, \" - \", round(average_temp, 1), \"C\" )"
      ],
      "metadata": {
        "colab": {
          "base_uri": "https://localhost:8080/"
        },
        "id": "c412kbiTpoOJ",
        "outputId": "8bef27cb-dc9c-4ff7-d2ec-37c34257b108"
      },
      "execution_count": null,
      "outputs": [
        {
          "output_type": "stream",
          "name": "stdout",
          "text": [
            "Средняя температура в странах:\n",
            "Таиланд  -  23.9 C\n",
            "Германия  -  13.8 C\n",
            "Россия  -  3.7 C\n",
            "Польша  -  12.0 C\n"
          ]
        }
      ]
    }
  ]
}