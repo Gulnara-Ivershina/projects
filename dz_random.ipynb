{
  "nbformat": 4,
  "nbformat_minor": 0,
  "metadata": {
    "colab": {
      "provenance": []
    },
    "kernelspec": {
      "name": "python3",
      "display_name": "Python 3"
    },
    "language_info": {
      "name": "python"
    }
  },
  "cells": [
    {
      "cell_type": "code",
      "execution_count": null,
      "metadata": {
        "id": "cGYuhaoI8Ags"
      },
      "outputs": [],
      "source": [
        "import numpy as np\n",
        "trials = 1000000    # Количество попыток\n",
        "successes = 0    # Количество успехов\n",
        "total_gain = 0     # Общий выигрыш\n",
        "\n",
        "for i in range(trials):\n",
        "  random_number = np.random.randint(0, 1000) # Случайное число от 0 до 999\n",
        "  if random_number == 777:\n",
        "    total_gain += 200\n",
        "    successes += 1\n",
        "  elif random_number == 999:\n",
        "    total_gain += 100\n",
        "    successes += 1\n",
        "  elif random_number == 555:\n",
        "    total_gain += 50\n",
        "    successes += 1\n",
        "  elif random_number == 333:\n",
        "    total_gain += 15\n",
        "    successes += 1\n",
        "  elif random_number == 111:\n",
        "    total_gain += 10\n",
        "    successes += 1\n"
      ]
    },
    {
      "cell_type": "code",
      "source": [
        "p_monte_carlo = successes / trials # Вероятность из моделирования\n",
        "p = total_gain / trials # Средний выигрыш из моделирования\n",
        "\n",
        "print(successes, trials, p_monte_carlo, p)"
      ],
      "metadata": {
        "colab": {
          "base_uri": "https://localhost:8080/"
        },
        "id": "se6WFlVe_55R",
        "outputId": "cc372745-b702-451a-f711-389dd1f9f6a4"
      },
      "execution_count": null,
      "outputs": [
        {
          "output_type": "stream",
          "name": "stdout",
          "text": [
            "0 1000000 0.0 0.0\n"
          ]
        }
      ]
    },
    {
      "cell_type": "code",
      "source": [
        "# Игра совсем не выгодна игроку. Средний выигрыш p равен 0."
      ],
      "metadata": {
        "id": "f22rM5T1B2O7"
      },
      "execution_count": null,
      "outputs": []
    }
  ]
}