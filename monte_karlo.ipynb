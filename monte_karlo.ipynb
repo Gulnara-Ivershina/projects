{
  "nbformat": 4,
  "nbformat_minor": 0,
  "metadata": {
    "colab": {
      "provenance": []
    },
    "kernelspec": {
      "name": "python3",
      "display_name": "Python 3"
    },
    "language_info": {
      "name": "python"
    }
  },
  "cells": [
    {
      "cell_type": "code",
      "execution_count": null,
      "metadata": {
        "colab": {
          "base_uri": "https://localhost:8080/"
        },
        "id": "0qqPDX2SbqWL",
        "outputId": "502e3b53-e9e0-41f4-a941-5ebd633302d5"
      },
      "outputs": [
        {
          "output_type": "stream",
          "name": "stdout",
          "text": [
            "Количество успехов: 203864\n",
            "Количество попыток: 1000000\n",
            "Вероятность из моделирования: 0.203864\n",
            "Средний выигрыш из моделирования: 0.7903 руб.\n",
            "Средний выигрыш на 1 игру: -0.2097 руб.\n"
          ]
        }
      ],
      "source": [
        "import numpy as np\n",
        "\n",
        "trials = 1000000\n",
        "# Количество попыток\n",
        "successes = 0\n",
        "# Количество успехов\n",
        "total_gain = 0\n",
        "# Общий выигрыш\n",
        "\n",
        "for i in range(trials):\n",
        "    random_number = np.random.randint(0, 1000) # Случайное число от 0 до 999\n",
        "    if random_number == 777:\n",
        "        total_gain += 200\n",
        "        successes += 1\n",
        "    elif random_number == 999:\n",
        "        total_gain += 100\n",
        "        successes += 1\n",
        "    elif random_number == 555:\n",
        "        total_gain += 50\n",
        "        successes += 1\n",
        "    elif random_number == 333:\n",
        "        total_gain += 15\n",
        "        successes += 1\n",
        "    elif random_number == 111:\n",
        "        total_gain += 10\n",
        "        successes += 1\n",
        "    elif random_number % 100 == 77:\n",
        "        total_gain += 5\n",
        "        successes += 1\n",
        "    elif random_number % 10 == 7:\n",
        "        total_gain += 3\n",
        "        successes += 1\n",
        "    elif random_number % 100 == 0:\n",
        "        total_gain += 2\n",
        "        successes += 1\n",
        "    elif random_number % 10 == 0:\n",
        "        total_gain += 1\n",
        "        successes += 1\n",
        "\n",
        "p_monte_carlo = successes / trials # Вероятность из моделирования\n",
        "p = total_gain / trials # Средний выигрыш из моделирования\n",
        "average_gain_per_game = p - 1    # Средний выигрыш на одну игру\n",
        "\n",
        "print(f\"Количество успехов: {successes}\")\n",
        "print(f\"Количество попыток: {trials}\")\n",
        "print(f\"Вероятность из моделирования: {p_monte_carlo}\")\n",
        "print(f\"Средний выигрыш из моделирования: {p} руб.\")\n",
        "print(f\"Средний выигрыш на 1 игру: {average_gain_per_game} руб.\")"
      ]
    },
    {
      "cell_type": "code",
      "source": [
        "#Таким образом, игрок теряет за каждую игру около 20 копеек."
      ],
      "metadata": {
        "id": "evNap2mJfndq"
      },
      "execution_count": null,
      "outputs": []
    }
  ]
}