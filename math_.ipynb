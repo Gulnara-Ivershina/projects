{
  "nbformat": 4,
  "nbformat_minor": 0,
  "metadata": {
    "colab": {
      "provenance": []
    },
    "kernelspec": {
      "name": "python3",
      "display_name": "Python 3"
    },
    "language_info": {
      "name": "python"
    }
  },
  "cells": [
    {
      "cell_type": "code",
      "execution_count": null,
      "metadata": {
        "id": "kyL2DlZj4J_m"
      },
      "outputs": [],
      "source": [
        "import numpy as np\n",
        "from numpy.linalg import norm\n",
        "\n",
        "film_2 = np.array([0,1,0,1,0,0])      # Ярость\n",
        "film_3 = np.array([0,0,1,1,1,0])      # 12 лет рабства\n",
        "\n"
      ]
    },
    {
      "cell_type": "code",
      "source": [
        "#Скалярное произведение двух векторов\n",
        "dot_product = np.dot(film_2, film_3)\n",
        "dot_product"
      ],
      "metadata": {
        "colab": {
          "base_uri": "https://localhost:8080/"
        },
        "id": "FluHIHGe75kM",
        "outputId": "4d7d96a3-4c15-4b8d-ac8d-6b9e320f68b2"
      },
      "execution_count": null,
      "outputs": [
        {
          "output_type": "execute_result",
          "data": {
            "text/plain": [
              "1"
            ]
          },
          "metadata": {},
          "execution_count": 4
        }
      ]
    },
    {
      "cell_type": "code",
      "source": [
        "#Определим косинусную меру и градус между векторами\n",
        "cosine_similarity = dot_product / (norm(film_2) * norm(film_3))\n",
        "degree = np.rad2deg(np.arccos(cosine_similarity))\n",
        "print(degree)"
      ],
      "metadata": {
        "colab": {
          "base_uri": "https://localhost:8080/"
        },
        "id": "0coNYTtR8cpn",
        "outputId": "05fe1e51-4053-4502-a02c-901043a033b2"
      },
      "execution_count": null,
      "outputs": [
        {
          "output_type": "stream",
          "name": "stdout",
          "text": [
            "65.90515744788931\n"
          ]
        }
      ]
    },
    {
      "cell_type": "code",
      "source": [
        "#Векторы-фильмы \"12 лет рабства\" и \"Ярость\" имеют некоторую степень схожести, близкой к 1"
      ],
      "metadata": {
        "id": "MV_9L4gi-hQc"
      },
      "execution_count": null,
      "outputs": []
    },
    {
      "cell_type": "code",
      "source": [
        "#Задание 2\n",
        "import sympy as sym\n",
        "x = sym.Symbol('x')\n",
        "example = 8*x*(x+3)**2\n"
      ],
      "metadata": {
        "id": "sJy8FHW_Edhn"
      },
      "execution_count": null,
      "outputs": []
    },
    {
      "cell_type": "code",
      "source": [
        "res = sym.diff(8*x*(x+3)**2, x)\n",
        "res"
      ],
      "metadata": {
        "colab": {
          "base_uri": "https://localhost:8080/",
          "height": 40
        },
        "id": "eM8sIAyKF4XW",
        "outputId": "24f13123-d5df-45bd-bf0b-c86c4862dbfd"
      },
      "execution_count": null,
      "outputs": [
        {
          "output_type": "execute_result",
          "data": {
            "text/plain": [
              "8*x*(2*x + 6) + 8*(x + 3)**2"
            ],
            "text/latex": "$\\displaystyle 8 x \\left(2 x + 6\\right) + 8 \\left(x + 3\\right)^{2}$"
          },
          "metadata": {},
          "execution_count": 8
        }
      ]
    },
    {
      "cell_type": "code",
      "source": [
        "res.subs(x,1)"
      ],
      "metadata": {
        "colab": {
          "base_uri": "https://localhost:8080/",
          "height": 37
        },
        "id": "BLu77RqvGnjS",
        "outputId": "34f5175e-e4ef-4dec-be01-f90ff82a97ef"
      },
      "execution_count": null,
      "outputs": [
        {
          "output_type": "execute_result",
          "data": {
            "text/plain": [
              "192"
            ],
            "text/latex": "$\\displaystyle 192$"
          },
          "metadata": {},
          "execution_count": 9
        }
      ]
    },
    {
      "cell_type": "code",
      "source": [
        "#Задание 3\n",
        "import numpy as np\n",
        "\n",
        "film_1 = np.array([0,0,0,0,1,0])      # Игра в имитацию\n",
        "film_2 = np.array([0,1,0,1,0,0])      # Ярость\n",
        "film_3 = np.array([0,0,1,1,1,0])      # 12 лет рабства\n",
        "film_4 = np.array([1,0,0,1,0,1])      # Однажды в Голливуде\n",
        "\n",
        "matrix = np.vstack((film_1, film_2, film_3, film_4))\n",
        "vector = np.array([1, 2, 3, 4])\n",
        "\n",
        "result = np.dot(vector, matrix)\n",
        "print(result)"
      ],
      "metadata": {
        "colab": {
          "base_uri": "https://localhost:8080/"
        },
        "id": "NvObzpWUHtwC",
        "outputId": "b0bf94c6-fbff-460e-9cd0-f66a513a1a0e"
      },
      "execution_count": null,
      "outputs": [
        {
          "output_type": "stream",
          "name": "stdout",
          "text": [
            "[4 2 3 9 4 4]\n"
          ]
        }
      ]
    }
  ]
}